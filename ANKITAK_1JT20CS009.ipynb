{
  "nbformat": 4,
  "nbformat_minor": 0,
  "metadata": {
    "colab": {
      "provenance": [],
      "toc_visible": true,
      "authorship_tag": "ABX9TyPwUExZYbAs/C74uQlSsRM5",
      "include_colab_link": true
    },
    "kernelspec": {
      "name": "python3",
      "display_name": "Python 3"
    },
    "language_info": {
      "name": "python"
    }
  },
  "cells": [
    {
      "cell_type": "markdown",
      "metadata": {
        "id": "view-in-github",
        "colab_type": "text"
      },
      "source": [
        "<a href=\"https://colab.research.google.com/github/ankitakarmakrrrr/Code-Maniac/blob/main/ANKITAK_1JT20CS009.ipynb\" target=\"_parent\"><img src=\"https://colab.research.google.com/assets/colab-badge.svg\" alt=\"Open In Colab\"/></a>"
      ]
    },
    {
      "cell_type": "code",
      "execution_count": null,
      "metadata": {
        "colab": {
          "base_uri": "https://localhost:8080/"
        },
        "id": "rdYExoxZjufU",
        "outputId": "d50a99e2-8808-4da5-adfb-02361c9cd95c"
      },
      "outputs": [
        {
          "output_type": "stream",
          "name": "stdout",
          "text": [
            "[7, 10, 7]\n"
          ]
        }
      ],
      "source": [
        "list1 = [2,4,3]\n",
        "list2 = [5,6,4]\n",
        "\n",
        "result = []\n",
        "for i in range(len(list1)):\n",
        "    result.append(list1[i] + list2[i])\n",
        "\n",
        "print(result)"
      ]
    },
    {
      "cell_type": "code",
      "source": [
        "\n",
        "def closedIsland(grid):\n",
        "    m, n = len(grid), len(grid[0])\n",
        "    def dfs(i, j):\n",
        "        if 0 <= i < m and 0 <= j < n and grid[i][j] == 0:\n",
        "            grid[i][j] = 1\n",
        "            dfs(i+1, j)\n",
        "            dfs(i-1, j)\n",
        "            dfs(i, j+1)\n",
        "            dfs(i, j-1)\n",
        "    # mark all land cells connected to the boundary as visited\n",
        "    for i in range(m):\n",
        "        dfs(i, 0)\n",
        "        dfs(i, n-1)\n",
        "    for j in range(n):\n",
        "        dfs(0, j)\n",
        "        dfs(m-1, j)\n",
        "    # traverse the remaining unvisited land cells and count closed islands\n",
        "    count = 0\n",
        "    for i in range(1, m-1):\n",
        "        for j in range(1, n-1):\n",
        "            if grid[i][j] == 0:\n",
        "                dfs(i, j)\n",
        "                count += 1\n",
        "    return count"
      ],
      "metadata": {
        "id": "aytiXl-bk_jr"
      },
      "execution_count": null,
      "outputs": []
    }
  ]
}